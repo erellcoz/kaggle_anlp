{
 "cells": [
  {
   "cell_type": "markdown",
   "metadata": {},
   "source": [
    "# Imports"
   ]
  },
  {
   "cell_type": "code",
   "execution_count": 16,
   "metadata": {},
   "outputs": [],
   "source": [
    "import pandas as pd\n",
    "from constants import LABEL_COLUMN, TEXT_COLUMN, TRAINING_DATA_PATH, EMBEDDING_SIZE, ALPHABET_COLUMN, ALPHABETS, SMALL_ALPHABETS, TINY_ALPHABETS\n",
    "import matplotlib.pyplot as plt\n",
    "\n",
    "import seaborn as sns\n",
    "import numpy as np\n",
    "\n",
    "from sklearn.model_selection import train_test_split\n",
    "from sklearn.ensemble import RandomForestClassifier\n",
    "from sklearn.metrics import confusion_matrix, f1_score"
   ]
  },
  {
   "cell_type": "markdown",
   "metadata": {},
   "source": [
    "# Data"
   ]
  },
  {
   "cell_type": "code",
   "execution_count": 3,
   "metadata": {},
   "outputs": [
    {
     "name": "stderr",
     "output_type": "stream",
     "text": [
      "C:\\Users\\camil\\AppData\\Local\\Temp\\ipykernel_6272\\1044635865.py:4: FutureWarning: A value is trying to be set on a copy of a DataFrame or Series through chained assignment using an inplace method.\n",
      "The behavior will change in pandas 3.0. This inplace method will never work because the intermediate object on which we are setting values always behaves as a copy.\n",
      "\n",
      "For example, when doing 'df[col].method(value, inplace=True)', try using 'df.method({col: value}, inplace=True)' or df[col] = df[col].method(value) instead, to perform the operation inplace on the original object.\n",
      "\n",
      "\n",
      "  df[\"Label\"].replace(to_replace=np.nan, value=\"nan\", inplace=True)\n"
     ]
    }
   ],
   "source": [
    "df = pd.read_csv(\"data/train_data_with_embedding_per_column.csv\")\n",
    "\n",
    "# Replace label NaN with the string \"nan\" (the string \"nan\" is interpreted as a NaN value by pandas)\n",
    "df[\"Label\"].replace(to_replace=np.nan, value=\"nan\", inplace=True)\n",
    "\n",
    "# Remove label with only 1 occurence\n",
    "df = df.groupby(\"Label\").filter(lambda x: len(x) > 1)"
   ]
  },
  {
   "cell_type": "code",
   "execution_count": 4,
   "metadata": {},
   "outputs": [
    {
     "name": "stdout",
     "output_type": "stream",
     "text": [
      "<class 'pandas.core.frame.DataFrame'>\n",
      "Index: 38850 entries, 0 to 38853\n",
      "Data columns (total 3 columns):\n",
      " #   Column  Non-Null Count  Dtype \n",
      "---  ------  --------------  ----- \n",
      " 0   ID      38850 non-null  int64 \n",
      " 1   Label   38850 non-null  object\n",
      " 2   Text    38850 non-null  object\n",
      "dtypes: int64(1), object(2)\n",
      "memory usage: 1.2+ MB\n",
      "None\n"
     ]
    }
   ],
   "source": [
    "print(df[[\"ID\", \"Label\", \"Text\"]].info())"
   ]
  },
  {
   "cell_type": "code",
   "execution_count": 5,
   "metadata": {},
   "outputs": [],
   "source": [
    "def detect_alphabet(text):\n",
    "    detected = \"\"\n",
    "    \n",
    "    for char in text:\n",
    "        char_code = ord(char)\n",
    "        \n",
    "        for alphabet, (start, end) in ALPHABETS.items():\n",
    "            if start <= char_code <= end:\n",
    "                detected = alphabet\n",
    "    \n",
    "    return detected if detected else \"Inconnu\"\n",
    "\n",
    "df[ALPHABET_COLUMN] = df[TEXT_COLUMN].apply(detect_alphabet)"
   ]
  },
  {
   "cell_type": "code",
   "execution_count": 6,
   "metadata": {},
   "outputs": [
    {
     "data": {
      "text/plain": [
       "Alphabet\n",
       "Latin         28848\n",
       "Cyrillic       3259\n",
       "Arabic         2413\n",
       "Devanagari     1577\n",
       "Inconnu        1247\n",
       "Chinese         523\n",
       "Hebrew          228\n",
       "Georgian        204\n",
       "Greek           200\n",
       "Gujarati        100\n",
       "Korean           96\n",
       "Thai             90\n",
       "Hiragana         50\n",
       "Katakana         15\n",
       "Name: count, dtype: int64"
      ]
     },
     "execution_count": 6,
     "metadata": {},
     "output_type": "execute_result"
    }
   ],
   "source": [
    "df[ALPHABET_COLUMN].value_counts()"
   ]
  },
  {
   "cell_type": "code",
   "execution_count": 7,
   "metadata": {},
   "outputs": [
    {
     "data": {
      "text/plain": [
       "np.int64(351)"
      ]
     },
     "execution_count": 7,
     "metadata": {},
     "output_type": "execute_result"
    }
   ],
   "source": [
    "df[df[ALPHABET_COLUMN].isin(TINY_ALPHABETS)][\"Text\"].count()"
   ]
  },
  {
   "cell_type": "code",
   "execution_count": 8,
   "metadata": {},
   "outputs": [
    {
     "data": {
      "text/plain": [
       "np.int64(632)"
      ]
     },
     "execution_count": 8,
     "metadata": {},
     "output_type": "execute_result"
    }
   ],
   "source": [
    "df[df[ALPHABET_COLUMN].isin(SMALL_ALPHABETS)][\"Text\"].count()"
   ]
  },
  {
   "cell_type": "code",
   "execution_count": 9,
   "metadata": {},
   "outputs": [
    {
     "data": {
      "text/plain": [
       "np.int64(37867)"
      ]
     },
     "execution_count": 9,
     "metadata": {},
     "output_type": "execute_result"
    }
   ],
   "source": [
    "df[~df[ALPHABET_COLUMN].isin(SMALL_ALPHABETS + TINY_ALPHABETS)][\"Text\"].count()"
   ]
  },
  {
   "cell_type": "code",
   "execution_count": 10,
   "metadata": {},
   "outputs": [
    {
     "name": "stderr",
     "output_type": "stream",
     "text": [
      "c:\\Users\\camil\\OneDrive\\Documents\\CentraleSupelec\\Cours\\3A\\AdvancedNLP\\kaggle_anlp\\.env\\Lib\\site-packages\\tqdm\\auto.py:21: TqdmWarning: IProgress not found. Please update jupyter and ipywidgets. See https://ipywidgets.readthedocs.io/en/stable/user_install.html\n",
      "  from .autonotebook import tqdm as notebook_tqdm\n",
      "C:\\Users\\camil\\AppData\\Local\\Temp\\ipykernel_6272\\2373155748.py:13: FutureWarning: A value is trying to be set on a copy of a DataFrame or Series through chained assignment using an inplace method.\n",
      "The behavior will change in pandas 3.0. This inplace method will never work because the intermediate object on which we are setting values always behaves as a copy.\n",
      "\n",
      "For example, when doing 'df[col].method(value, inplace=True)', try using 'df.method({col: value}, inplace=True)' or df[col] = df[col].method(value) instead, to perform the operation inplace on the original object.\n",
      "\n",
      "\n",
      "  X_train[\"Label\"].replace(to_replace=np.nan, value=\"nan\", inplace=True)\n"
     ]
    },
    {
     "name": "stdout",
     "output_type": "stream",
     "text": [
      "Accuracy with Roberta only: 0.8366662366146304\n"
     ]
    },
    {
     "name": "stderr",
     "output_type": "stream",
     "text": [
      "C:\\Users\\camil\\AppData\\Local\\Temp\\ipykernel_6272\\2373155748.py:21: FutureWarning: A value is trying to be set on a copy of a DataFrame or Series through chained assignment using an inplace method.\n",
      "The behavior will change in pandas 3.0. This inplace method will never work because the intermediate object on which we are setting values always behaves as a copy.\n",
      "\n",
      "For example, when doing 'df[col].method(value, inplace=True)', try using 'df.method({col: value}, inplace=True)' or df[col] = df[col].method(value) instead, to perform the operation inplace on the original object.\n",
      "\n",
      "\n",
      "  X_test[\"Label\"].replace(to_replace=np.nan, value=\"nan\", inplace=True)\n",
      "C:\\Users\\camil\\AppData\\Local\\Temp\\ipykernel_6272\\2373155748.py:22: FutureWarning: A value is trying to be set on a copy of a DataFrame or Series through chained assignment using an inplace method.\n",
      "The behavior will change in pandas 3.0. This inplace method will never work because the intermediate object on which we are setting values always behaves as a copy.\n",
      "\n",
      "For example, when doing 'df[col].method(value, inplace=True)', try using 'df.method({col: value}, inplace=True)' or df[col] = df[col].method(value) instead, to perform the operation inplace on the original object.\n",
      "\n",
      "\n",
      "  X_test[\"Prediction\"].replace(to_replace=np.nan, value=\"nan\", inplace=True)\n"
     ]
    }
   ],
   "source": [
    "# Separating the data into training and testing data\n",
    "from train_roberta import load_data\n",
    "\n",
    "# Load data\n",
    "filepath = \"data/train_submission.csv\"\n",
    "texts, labels, label_to_id = load_data(filepath)\n",
    "\n",
    "# Split data into training and test sets\n",
    "train_texts, test_texts, train_labels, test_labels = train_test_split(texts, labels, test_size=0.2, random_state=42)\n",
    "\n",
    "# Train data\n",
    "X_train = pd.merge(pd.DataFrame(train_texts, columns=[\"Text\"]), df, on=[\"Text\"], how=\"inner\")\n",
    "X_train[\"Label\"].replace(to_replace=np.nan, value=\"nan\", inplace=True)\n",
    "\n",
    "# Roberta predictions\n",
    "predictions_roberta = pd.read_csv(\"data/train_predictions.csv\")\n",
    "\n",
    "# Test predictions\n",
    "X_test = pd.merge(pd.DataFrame(test_texts, columns=[\"Text\"]), predictions_roberta, on=[\"Text\"], how=\"inner\")\n",
    "X_test = pd.merge(X_test, df, on=['Text', 'ID', 'Usage', 'Label'], how=\"inner\")\n",
    "X_test[\"Label\"].replace(to_replace=np.nan, value=\"nan\", inplace=True)\n",
    "X_test[\"Prediction\"].replace(to_replace=np.nan, value=\"nan\", inplace=True)\n",
    "\n",
    "# Accuracy with Roberta only\n",
    "print(\"Accuracy with Roberta only:\", (X_test[\"Label\"] == X_test[\"Prediction\"]).mean())"
   ]
  },
  {
   "cell_type": "markdown",
   "metadata": {},
   "source": [
    "# Training for alphabet with up to 5 different languages"
   ]
  },
  {
   "cell_type": "code",
   "execution_count": 11,
   "metadata": {},
   "outputs": [],
   "source": [
    "small_classifiers = {}\n",
    "\n",
    "for small_alphabet in SMALL_ALPHABETS:\n",
    "\n",
    "    X_train_small = X_train[X_train[ALPHABET_COLUMN] == small_alphabet]\n",
    "    X_test_small = X_test[X_test[ALPHABET_COLUMN] == small_alphabet]\n",
    "\n",
    "    classifier = RandomForestClassifier()\n",
    "    classifier.fit(X_train_small[[f\"embedding_{i}\" for i in range(EMBEDDING_SIZE)]], X_train_small[LABEL_COLUMN])\n",
    "    \n",
    "    small_classifiers[small_alphabet] = classifier\n"
   ]
  },
  {
   "cell_type": "markdown",
   "metadata": {},
   "source": [
    "# Test"
   ]
  },
  {
   "cell_type": "code",
   "execution_count": null,
   "metadata": {},
   "outputs": [
    {
     "name": "stderr",
     "output_type": "stream",
     "text": [
      "C:\\Users\\camil\\AppData\\Local\\Temp\\ipykernel_6272\\1631705242.py:7: SettingWithCopyWarning: \n",
      "A value is trying to be set on a copy of a slice from a DataFrame.\n",
      "Try using .loc[row_indexer,col_indexer] = value instead\n",
      "\n",
      "See the caveats in the documentation: https://pandas.pydata.org/pandas-docs/stable/user_guide/indexing.html#returning-a-view-versus-a-copy\n",
      "  preds_tiny_alphabet[\"Prediction\"] = tiny_alphabet_matching[tiny_alphabet]\n",
      "C:\\Users\\camil\\AppData\\Local\\Temp\\ipykernel_6272\\1631705242.py:22: SettingWithCopyWarning: \n",
      "A value is trying to be set on a copy of a slice from a DataFrame.\n",
      "Try using .loc[row_indexer,col_indexer] = value instead\n",
      "\n",
      "See the caveats in the documentation: https://pandas.pydata.org/pandas-docs/stable/user_guide/indexing.html#returning-a-view-versus-a-copy\n",
      "  preds_small_alphabet[\"Prediction\"] = classifier.predict(preds_small_alphabet[[f\"embedding_{i}\" for i in range(EMBEDDING_SIZE)]])\n",
      "C:\\Users\\camil\\AppData\\Local\\Temp\\ipykernel_6272\\1631705242.py:22: SettingWithCopyWarning: \n",
      "A value is trying to be set on a copy of a slice from a DataFrame.\n",
      "Try using .loc[row_indexer,col_indexer] = value instead\n",
      "\n",
      "See the caveats in the documentation: https://pandas.pydata.org/pandas-docs/stable/user_guide/indexing.html#returning-a-view-versus-a-copy\n",
      "  preds_small_alphabet[\"Prediction\"] = classifier.predict(preds_small_alphabet[[f\"embedding_{i}\" for i in range(EMBEDDING_SIZE)]])\n",
      "C:\\Users\\camil\\AppData\\Local\\Temp\\ipykernel_6272\\1631705242.py:22: SettingWithCopyWarning: \n",
      "A value is trying to be set on a copy of a slice from a DataFrame.\n",
      "Try using .loc[row_indexer,col_indexer] = value instead\n",
      "\n",
      "See the caveats in the documentation: https://pandas.pydata.org/pandas-docs/stable/user_guide/indexing.html#returning-a-view-versus-a-copy\n",
      "  preds_small_alphabet[\"Prediction\"] = classifier.predict(preds_small_alphabet[[f\"embedding_{i}\" for i in range(EMBEDDING_SIZE)]])\n"
     ]
    },
    {
     "name": "stdout",
     "output_type": "stream",
     "text": [
      "Accuracy Tiny: 0.9864864864864865\n",
      "Accuracy Small: 0.9243697478991597\n",
      "Accuracy Large Alphabets: 0.8317183021700559\n",
      "Total accuracy: 0.8347074468085106\n",
      "f1-score: 0.8342368052921412\n"
     ]
    },
    {
     "data": {
      "image/png": "[encoded data removed]",
      "text/plain": [
       "<Figure size 1000x1000 with 2 Axes>"
      ]
     },
     "metadata": {},
     "output_type": "display_data"
    }
   ],
   "source": [
    "# Alphabet with only one language\n",
    "preds_tiny_alphabets = {}\n",
    "weights_tiny_alphabets = {}\n",
    "tiny_alphabet_matching = { \"Thai\":\"tha\", \"Hiragana\": \"jpn\", \"Gujarati\":\"guj\", \"Korean\": \"kor\",\"Katakana\": \"jpn\" }\n",
    "for tiny_alphabet in TINY_ALPHABETS:\n",
    "    preds_tiny_alphabet = X_test[X_test[ALPHABET_COLUMN] == tiny_alphabet]\n",
    "    preds_tiny_alphabet[\"Prediction\"] = tiny_alphabet_matching[tiny_alphabet]\n",
    "    preds_tiny_alphabets[tiny_alphabet] = preds_tiny_alphabet\n",
    "    weights_tiny_alphabets[tiny_alphabet] = len(preds_tiny_alphabet)\n",
    " \n",
    "accuracy_tiny = 0\n",
    "for key in preds_tiny_alphabets:\n",
    "    accuracy_tiny += (preds_tiny_alphabets[key][\"Label\"] == preds_tiny_alphabets[key][\"Prediction\"]).sum()\n",
    "print(\"Accuracy Tiny:\", accuracy_tiny / sum(weights_tiny_alphabets.values()))\n",
    "    \n",
    "# Alphabet with up to 5 different languages\n",
    "preds_small_alphabets = {}\n",
    "weights_small_alphabets = {}\n",
    "for small_alphabet in SMALL_ALPHABETS:\n",
    "    classifier = small_classifiers[small_alphabet]\n",
    "    preds_small_alphabet = X_test[X_test[ALPHABET_COLUMN] == small_alphabet]\n",
    "    preds_small_alphabet[\"Prediction\"] = classifier.predict(preds_small_alphabet[[f\"embedding_{i}\" for i in range(EMBEDDING_SIZE)]])\n",
    "    preds_small_alphabets[small_alphabet] = preds_small_alphabet\n",
    "    weights_small_alphabets[small_alphabet] = len(preds_small_alphabet)\n",
    "\n",
    "accuracy_small = 0\n",
    "for key in preds_small_alphabets:\n",
    "    accuracy_small += (preds_small_alphabets[key][\"Label\"] == preds_small_alphabets[key][\"Prediction\"]).sum()\n",
    "    \n",
    "print(\"Accuracy Small:\", accuracy_small / sum(weights_small_alphabets.values()))\n",
    "\n",
    "# Alphabet with more than 5 different languages\n",
    "large_alphabets = ALPHABETS.keys() - set(SMALL_ALPHABETS + TINY_ALPHABETS)\n",
    "preds_large_alphabets = {}\n",
    "weights_large_alphabets = {}\n",
    "for alphabet in large_alphabets:\n",
    "    preds_large_alphabet = X_test[X_test[ALPHABET_COLUMN] == alphabet]\n",
    "    preds_large_alphabets[alphabet] = preds_large_alphabet\n",
    "    weights_large_alphabets[alphabet] = len(preds_large_alphabet)\n",
    "\n",
    "accuracy_large = 0\n",
    "for key in preds_large_alphabets:\n",
    "    accuracy_large += (preds_large_alphabets[key][\"Label\"] == preds_large_alphabets[key][\"Prediction\"]).sum()\n",
    "print(\"Accuracy Large Alphabets:\", accuracy_large / sum(weights_large_alphabets.values()))\n",
    "\n",
    "\n",
    "# Accuracy and f1-score\n",
    "from sklearn.metrics import f1_score\n",
    "\n",
    "preds = pd.concat([preds_tiny_alphabets[key] for key in preds_tiny_alphabets] + [preds_small_alphabets[key] for key in preds_small_alphabets] + [preds_large_alphabets[key] for key in preds_large_alphabets])\n",
    "print(\"Total accuracy:\", (preds[\"Label\"] == preds[\"Prediction\"]).mean())\n",
    "print(\"f1-score:\", f1_score(preds[\"Label\"], preds[\"Prediction\"], average=\"weighted\"))"
   ]
  }
 ],
 "metadata": {
  "kernelspec": {
   "display_name": ".env",
   "language": "python",
   "name": "python3"
  },
  "language_info": {
   "codemirror_mode": {
    "name": "ipython",
    "version": 3
   },
   "file_extension": ".py",
   "mimetype": "text/x-python",
   "name": "python",
   "nbconvert_exporter": "python",
   "pygments_lexer": "ipython3",
   "version": "3.12.4"
  }
 },
 "nbformat": 4,
 "nbformat_minor": 2
}
